{
 "cells": [
  {
   "cell_type": "markdown",
   "metadata": {},
   "source": [
    "# Write a program to subtract two complex numbers in Python."
   ]
  },
  {
   "cell_type": "code",
   "execution_count": 2,
   "metadata": {},
   "outputs": [
    {
     "name": "stdout",
     "output_type": "stream",
     "text": [
      "Enter Number1 :2\n",
      "Enter Number2 :2\n",
      "Substration Of Two Numbers is  0\n"
     ]
    }
   ],
   "source": [
    "numb_1 = int(input(\"Enter Number1 :\"))\n",
    "numb_2 = int(input(\"Enter Number2 :\"))\n",
    "\n",
    "numb_3=numb_1-numb_2\n",
    "\n",
    "print(\"Substration Of Two Numbers is \",numb_3)"
   ]
  },
  {
   "cell_type": "markdown",
   "metadata": {},
   "source": [
    "# Write a program to find the fourth root of a number."
   ]
  },
  {
   "cell_type": "code",
   "execution_count": 18,
   "metadata": {},
   "outputs": [],
   "source": [
    "import os\n",
    "cwd = os.getcwd()"
   ]
  },
  {
   "cell_type": "code",
   "execution_count": 17,
   "metadata": {},
   "outputs": [
    {
     "name": "stdout",
     "output_type": "stream",
     "text": [
      "Enter the number you  want to find the root:2\n",
      "The Fourth Root of the number is 6\n"
     ]
    }
   ],
   "source": [
    "numb_1 = int(input(\"Enter the number you  want to find the root:\"))\n",
    "numb_2 = 4\n",
    "\n",
    "numb_3=numb_1^numb_2\n",
    "\n",
    "print(\"The Fourth Root of the number is\",numb_3)"
   ]
  },
  {
   "cell_type": "markdown",
   "metadata": {},
   "source": [
    "# Write a program to swap two numbers in Python with the help of a temporary variable."
   ]
  },
  {
   "cell_type": "code",
   "execution_count": 9,
   "metadata": {},
   "outputs": [
    {
     "name": "stdout",
     "output_type": "stream",
     "text": [
      "Enter the number 1: 1\n",
      "Enter the number 2: 2\n",
      " The Swapped Values are 2 1\n"
     ]
    }
   ],
   "source": [
    "numb_1 = int(input(\"Enter the number 1: \"))\n",
    "numb_2 = int(input(\"Enter the number 2: \"))\n",
    "numb_3 = 0\n",
    "\n",
    "numb_3=numb_1 \n",
    "numb_1=numb_2\n",
    "numb_2=numb_3\n",
    "\n",
    "print(\" The Swapped Values are\",numb_1,numb_2)\n"
   ]
  },
  {
   "cell_type": "markdown",
   "metadata": {},
   "source": [
    "# Write a program to swap two numbers in Python without using a temporary variable."
   ]
  },
  {
   "cell_type": "code",
   "execution_count": 7,
   "metadata": {},
   "outputs": [
    {
     "name": "stdout",
     "output_type": "stream",
     "text": [
      "Enter the number 1: 1\n",
      "Enter the number 2: 2\n",
      " The Swapped Values are 2 1\n"
     ]
    }
   ],
   "source": [
    "numb_1 = int(input(\"Enter the number 1: \"))\n",
    "numb_2 = int(input(\"Enter the number 2: \"))\n",
    "\n",
    "numb_1,numb_2=numb_2,numb_1\n",
    "\n",
    "print(\" The Swapped Values are\",numb_1,numb_2)"
   ]
  },
  {
   "cell_type": "markdown",
   "metadata": {},
   "source": [
    "# Write a program to convert fahrenheit to kelvin and celsius both."
   ]
  },
  {
   "cell_type": "code",
   "execution_count": 11,
   "metadata": {},
   "outputs": [
    {
     "name": "stdout",
     "output_type": "stream",
     "text": [
      "Enter fahrenheit: 86\n",
      " The Kelvin Value is 303.15\n",
      " The Celsius value is 30.0\n"
     ]
    }
   ],
   "source": [
    "far = float(input(\"Enter fahrenheit: \"))\n",
    "cel=0\n",
    "kel=0\n",
    "\n",
    "cel=((far-32)/1.8)\n",
    "kel=cel+273.15\n",
    "\n",
    "print(\" The Kelvin Value is\",kel)\n",
    "print(\" The Celsius value is\",cel)"
   ]
  },
  {
   "cell_type": "markdown",
   "metadata": {},
   "source": [
    "# Write a program to demonstrate all the available data types in Python. Hint: Use type() function."
   ]
  },
  {
   "cell_type": "code",
   "execution_count": 16,
   "metadata": {},
   "outputs": [
    {
     "name": "stdout",
     "output_type": "stream",
     "text": [
      "<class 'int'>\n",
      "<class 'float'>\n",
      "<class 'str'>\n",
      "<class 'list'>\n"
     ]
    }
   ],
   "source": [
    "tp1=10\n",
    "tp2=4.5\n",
    "tp3=\"Hello\"\n",
    "tp4=[1,2,2,3]\n",
    "\n",
    "\n",
    "print(type(tp1))\n",
    "print(type(tp2))\n",
    "print(type(tp3))\n",
    "print(type(tp4))\n",
    "\n"
   ]
  },
  {
   "cell_type": "markdown",
   "metadata": {},
   "source": [
    "# Create a Markdown cell in jupyter and list the steps discussed in the session by Dr. Darshan  Ingle sir to create Github profile and upload Githubs Assignment link."
   ]
  },
  {
   "cell_type": "markdown",
   "metadata": {},
   "source": [
    "1) Create a Github Account \n",
    "2) Create a Github Repository \n",
    "3) Upload the Local Folder to upload an existing file \n",
    "4) go to that days folder and share the link on the google sheets "
   ]
  }
 ],
 "metadata": {
  "kernelspec": {
   "display_name": "Python 3",
   "language": "python",
   "name": "python3"
  },
  "language_info": {
   "codemirror_mode": {
    "name": "ipython",
    "version": 3
   },
   "file_extension": ".py",
   "mimetype": "text/x-python",
   "name": "python",
   "nbconvert_exporter": "python",
   "pygments_lexer": "ipython3",
   "version": "3.7.6"
  }
 },
 "nbformat": 4,
 "nbformat_minor": 4
}
